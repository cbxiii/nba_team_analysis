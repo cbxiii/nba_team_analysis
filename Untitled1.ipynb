{
 "cells": [
  {
   "cell_type": "code",
   "execution_count": 2,
   "id": "ed4602b7-bee8-4de4-86d8-df85e74854aa",
   "metadata": {},
   "outputs": [],
   "source": [
    "import pandas as pd\n",
    "from nba_api.stats.endpoints import teamgamelog"
   ]
  },
  {
   "cell_type": "code",
   "execution_count": null,
   "id": "42637f8a-74d0-4a56-99b8-64dcff97774b",
   "metadata": {},
   "outputs": [],
   "source": [
    "heat_gamelog = teamgamelog.TeamGameLog(team_id='1610612748', season='2023')"
   ]
  }
 ],
 "metadata": {
  "kernelspec": {
   "display_name": "Python 3 (ipykernel)",
   "language": "python",
   "name": "python3"
  },
  "language_info": {
   "codemirror_mode": {
    "name": "ipython",
    "version": 3
   },
   "file_extension": ".py",
   "mimetype": "text/x-python",
   "name": "python",
   "nbconvert_exporter": "python",
   "pygments_lexer": "ipython3",
   "version": "3.11.5"
  }
 },
 "nbformat": 4,
 "nbformat_minor": 5
}
